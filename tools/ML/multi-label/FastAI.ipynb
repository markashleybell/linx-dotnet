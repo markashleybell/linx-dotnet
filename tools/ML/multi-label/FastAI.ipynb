{
 "metadata": {
  "language_info": {
   "codemirror_mode": {
    "name": "ipython",
    "version": 3
   },
   "file_extension": ".py",
   "mimetype": "text/x-python",
   "name": "python",
   "nbconvert_exporter": "python",
   "pygments_lexer": "ipython3",
   "version": ""
  },
  "orig_nbformat": 2,
  "kernelspec": {
   "name": "linx",
   "display_name": "Python 3.9.5 64-bit"
  }
 },
 "nbformat": 4,
 "nbformat_minor": 2,
 "cells": [
  {
   "cell_type": "code",
   "execution_count": 20,
   "metadata": {},
   "outputs": [],
   "source": [
    "%matplotlib inline\n",
    "\n",
    "import pandas as pd\n",
    "\n",
    "from fastai import *\n",
    "from fastai.text import *\n",
    "from fastai.text.data import *"
   ]
  },
  {
   "cell_type": "code",
   "execution_count": 22,
   "metadata": {},
   "outputs": [
    {
     "output_type": "execute_result",
     "data": {
      "text/plain": [
       "                                                                                                                 Title  \\\n",
       "0                                                                         Introducing C# Source Generators | .NET Blog   \n",
       "1                                                               .NET 5 Source Generators Jump Start | Khalid Abuhakmeh   \n",
       "2                                                 Awesome PICO-8 | Curated list of awesome lists | Project-Awesome.org   \n",
       "3                                                        c# - Why are ToLookup and GroupBy different? - Stack Overflow   \n",
       "4  Classic Path.DirectorySeparatorChar gotchas when moving from .NET Core on Windows to Linux - Scott Hanselman's Blog   \n",
       "\n",
       "                                                                                           Tags  \\\n",
       "0  dynamic|dotnet|dev|csharp|source-generators|examples|programming|metaprogramming|compilation   \n",
       "1                  dotnet|dsl|tutorial|csharp|source-generators|metaprogramming|code-generation   \n",
       "2                         resource|dev|console|pico-8|examples|games|retro|lua|programming|list   \n",
       "3             linq|dotnet|best-practice|dev|csharp|patterns|examples|syntax|programming|utility   \n",
       "4                                         dotnet|dev|csharp|linux|windows|cross-platform|gotcha   \n",
       "\n",
       "                                                                                                                                                                                                                                                                                          Abstract  \n",
       "0                                                                                            All the previous examples of source generators mentioned earlier are pretty complex. Let’s go through a very basic one to show some of the key pieces you’ll need to write your own Source Generator.  \n",
       "1                                                                                                                                                                                                In this post, we’ll start with nothing and go through creating a source generator ready solution.  \n",
       "2                                                                                                                                           A curated list of PICO-8 resources, tutorials, tools and more. Inspired by the awesome list thing. You might also like awesome-lua and awesome-love2d.  \n",
       "3                                                                                                                                                                   ILookup has the handy indexer property, so it can be used in a dictionary-like (or lookup-like) manner, whereas GroupBy can't.  \n",
       "4  That '\\\\' is making a big assumption. A reasonable one in 2003, but a big one today. It's trimming a backslash off the start of the passed in string. Then the Uri constructor starts coming things and we're mixing and matching \\ and / and we end up with truncated URLs that don't resolve.  "
      ],
      "text/html": "<div>\n<style scoped>\n    .dataframe tbody tr th:only-of-type {\n        vertical-align: middle;\n    }\n\n    .dataframe tbody tr th {\n        vertical-align: top;\n    }\n\n    .dataframe thead th {\n        text-align: right;\n    }\n</style>\n<table border=\"1\" class=\"dataframe\">\n  <thead>\n    <tr style=\"text-align: right;\">\n      <th></th>\n      <th>Title</th>\n      <th>Tags</th>\n      <th>Abstract</th>\n    </tr>\n  </thead>\n  <tbody>\n    <tr>\n      <th>0</th>\n      <td>Introducing C# Source Generators | .NET Blog</td>\n      <td>dynamic|dotnet|dev|csharp|source-generators|examples|programming|metaprogramming|compilation</td>\n      <td>All the previous examples of source generators mentioned earlier are pretty complex. Let’s go through a very basic one to show some of the key pieces you’ll need to write your own Source Generator.</td>\n    </tr>\n    <tr>\n      <th>1</th>\n      <td>.NET 5 Source Generators Jump Start | Khalid Abuhakmeh</td>\n      <td>dotnet|dsl|tutorial|csharp|source-generators|metaprogramming|code-generation</td>\n      <td>In this post, we’ll start with nothing and go through creating a source generator ready solution.</td>\n    </tr>\n    <tr>\n      <th>2</th>\n      <td>Awesome PICO-8 | Curated list of awesome lists | Project-Awesome.org</td>\n      <td>resource|dev|console|pico-8|examples|games|retro|lua|programming|list</td>\n      <td>A curated list of PICO-8 resources, tutorials, tools and more. Inspired by the awesome list thing. You might also like awesome-lua and awesome-love2d.</td>\n    </tr>\n    <tr>\n      <th>3</th>\n      <td>c# - Why are ToLookup and GroupBy different? - Stack Overflow</td>\n      <td>linq|dotnet|best-practice|dev|csharp|patterns|examples|syntax|programming|utility</td>\n      <td>ILookup has the handy indexer property, so it can be used in a dictionary-like (or lookup-like) manner, whereas GroupBy can't.</td>\n    </tr>\n    <tr>\n      <th>4</th>\n      <td>Classic Path.DirectorySeparatorChar gotchas when moving from .NET Core on Windows to Linux - Scott Hanselman's Blog</td>\n      <td>dotnet|dev|csharp|linux|windows|cross-platform|gotcha</td>\n      <td>That '\\\\' is making a big assumption. A reasonable one in 2003, but a big one today. It's trimming a backslash off the start of the passed in string. Then the Uri constructor starts coming things and we're mixing and matching \\ and / and we end up with truncated URLs that don't resolve.</td>\n    </tr>\n  </tbody>\n</table>\n</div>"
     },
     "metadata": {},
     "execution_count": 22
    }
   ],
   "source": [
    "training_dataframe = pd.read_csv(\"data/train.csv\")\n",
    "valid_dataframe = pd.read_csv(\"data/valid.csv\")\n",
    "training_dataframe.head(5)"
   ]
  },
  {
   "cell_type": "code",
   "execution_count": 24,
   "metadata": {},
   "outputs": [
    {
     "output_type": "execute_result",
     "data": {
      "text/plain": [
       "((940, 3), (940, 3))"
      ]
     },
     "metadata": {},
     "execution_count": 24
    }
   ],
   "source": [
    "training_dataframe.shape, valid_dataframe.shape"
   ]
  },
  {
   "cell_type": "code",
   "execution_count": 45,
   "metadata": {},
   "outputs": [
    {
     "output_type": "stream",
     "name": "stdout",
     "text": [
      "Due to IPython and Windows limitation, python multiprocessing isn't available now.\n",
      "So `n_workers` has to be changed to 0 to avoid getting stuck\n",
      "C:\\Src\\linx-dotnet\\tools\\ML\\multi-label\\.venv\\lib\\site-packages\\numpy\\core\\_asarray.py:102: VisibleDeprecationWarning: Creating an ndarray from ragged nested sequences (which is a list-or-tuple of lists-or-tuples-or ndarrays with different lengths or shapes) is deprecated. If you meant to do this, you must specify 'dtype=object' when creating the ndarray.\n",
      "  return array(a, dtype, copy=False, order=order)\n"
     ]
    },
    {
     "output_type": "display_data",
     "data": {
      "text/plain": "<IPython.core.display.HTML object>",
      "text/html": "<table border=\"1\" class=\"dataframe\">\n  <thead>\n    <tr style=\"text-align: right;\">\n      <th></th>\n      <th>text</th>\n      <th>text_</th>\n    </tr>\n  </thead>\n  <tbody>\n    <tr>\n      <th>0</th>\n      <td>xxbos xxmaj there are several variations of .net images , covering different versions and different runtimes . xxmaj this is your guide to picking the right image for your applications . xxbos xxunk is a high performance program - to - program communication framework highly suitable to efficiently connect services and , as such , to serve as the foundation for the micro - service architecture . xxbos xxmaj illustrations and xxunk</td>\n      <td>xxmaj there are several variations of .net images , covering different versions and different runtimes . xxmaj this is your guide to picking the right image for your applications . xxbos xxunk is a high performance program - to - program communication framework highly suitable to efficiently connect services and , as such , to serve as the foundation for the micro - service architecture . xxbos xxmaj illustrations and xxunk on</td>\n    </tr>\n  </tbody>\n</table>"
     },
     "metadata": {}
    },
    {
     "output_type": "execute_result",
     "data": {
      "text/plain": [
       "<fastai.data.core.DataLoaders at 0x145a1224e50>"
      ]
     },
     "metadata": {},
     "execution_count": 45
    }
   ],
   "source": [
    "# training_dataframe['Tags']\n",
    "\n",
    "language_dataframe = pd.concat([training_dataframe, valid_dataframe], ignore_index=True)\n",
    "\n",
    "data_language_model = TextDataLoaders.from_df(language_dataframe, path='data', text_col='Abstract', label_col='Tags', label_delim='|', bs=48, is_lm=True)\n",
    "data_language_model.show_batch(max_n = 1)\n",
    "# data_language_model.\n",
    "\n",
    "data_language_model\n"
   ]
  },
  {
   "cell_type": "code",
   "execution_count": null,
   "metadata": {},
   "outputs": [],
   "source": []
  },
  {
   "cell_type": "code",
   "execution_count": null,
   "metadata": {},
   "outputs": [],
   "source": []
  },
  {
   "cell_type": "code",
   "execution_count": null,
   "metadata": {},
   "outputs": [],
   "source": []
  },
  {
   "cell_type": "code",
   "execution_count": null,
   "metadata": {},
   "outputs": [],
   "source": []
  },
  {
   "cell_type": "code",
   "execution_count": null,
   "metadata": {},
   "outputs": [],
   "source": []
  }
 ]
}