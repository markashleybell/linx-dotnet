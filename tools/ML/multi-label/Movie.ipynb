{
 "metadata": {
  "language_info": {
   "codemirror_mode": {
    "name": "ipython",
    "version": 3
   },
   "file_extension": ".py",
   "mimetype": "text/x-python",
   "name": "python",
   "nbconvert_exporter": "python",
   "pygments_lexer": "ipython3",
   "version": "3.9.5"
  },
  "orig_nbformat": 2,
  "kernelspec": {
   "name": "linx",
   "display_name": "Linx",
   "language": "python"
  }
 },
 "nbformat": 4,
 "nbformat_minor": 2,
 "cells": [
  {
   "cell_type": "code",
   "execution_count": 1,
   "metadata": {},
   "outputs": [],
   "source": [
    "import numpy as np\n",
    "import pandas as pd\n",
    "import glob\n",
    "import scipy.misc\n",
    "import matplotlib\n",
    "%matplotlib inline\n",
    "import matplotlib.pyplot as plt\n"
   ]
  },
  {
   "cell_type": "code",
   "execution_count": 2,
   "metadata": {},
   "outputs": [
    {
     "output_type": "execute_result",
     "data": {
      "text/plain": [
       "   imdbId                           Imdb Link  \\\n",
       "0  114709  http://www.imdb.com/title/tt114709   \n",
       "1  113497  http://www.imdb.com/title/tt113497   \n",
       "2  113228  http://www.imdb.com/title/tt113228   \n",
       "3  114885  http://www.imdb.com/title/tt114885   \n",
       "4  113041  http://www.imdb.com/title/tt113041   \n",
       "\n",
       "                                Title  IMDB Score                       Genre  \\\n",
       "0                    Toy Story (1995)         8.3  Animation|Adventure|Comedy   \n",
       "1                      Jumanji (1995)         6.9     Action|Adventure|Family   \n",
       "2             Grumpier Old Men (1995)         6.6              Comedy|Romance   \n",
       "3            Waiting to Exhale (1995)         5.7        Comedy|Drama|Romance   \n",
       "4  Father of the Bride Part II (1995)         5.9       Comedy|Family|Romance   \n",
       "\n",
       "                                              Poster  \n",
       "0  https://images-na.ssl-images-amazon.com/images...  \n",
       "1  https://images-na.ssl-images-amazon.com/images...  \n",
       "2  https://images-na.ssl-images-amazon.com/images...  \n",
       "3  https://images-na.ssl-images-amazon.com/images...  \n",
       "4  https://images-na.ssl-images-amazon.com/images...  "
      ],
      "text/html": "<div>\n<style scoped>\n    .dataframe tbody tr th:only-of-type {\n        vertical-align: middle;\n    }\n\n    .dataframe tbody tr th {\n        vertical-align: top;\n    }\n\n    .dataframe thead th {\n        text-align: right;\n    }\n</style>\n<table border=\"1\" class=\"dataframe\">\n  <thead>\n    <tr style=\"text-align: right;\">\n      <th></th>\n      <th>imdbId</th>\n      <th>Imdb Link</th>\n      <th>Title</th>\n      <th>IMDB Score</th>\n      <th>Genre</th>\n      <th>Poster</th>\n    </tr>\n  </thead>\n  <tbody>\n    <tr>\n      <th>0</th>\n      <td>114709</td>\n      <td>http://www.imdb.com/title/tt114709</td>\n      <td>Toy Story (1995)</td>\n      <td>8.3</td>\n      <td>Animation|Adventure|Comedy</td>\n      <td>https://images-na.ssl-images-amazon.com/images...</td>\n    </tr>\n    <tr>\n      <th>1</th>\n      <td>113497</td>\n      <td>http://www.imdb.com/title/tt113497</td>\n      <td>Jumanji (1995)</td>\n      <td>6.9</td>\n      <td>Action|Adventure|Family</td>\n      <td>https://images-na.ssl-images-amazon.com/images...</td>\n    </tr>\n    <tr>\n      <th>2</th>\n      <td>113228</td>\n      <td>http://www.imdb.com/title/tt113228</td>\n      <td>Grumpier Old Men (1995)</td>\n      <td>6.6</td>\n      <td>Comedy|Romance</td>\n      <td>https://images-na.ssl-images-amazon.com/images...</td>\n    </tr>\n    <tr>\n      <th>3</th>\n      <td>114885</td>\n      <td>http://www.imdb.com/title/tt114885</td>\n      <td>Waiting to Exhale (1995)</td>\n      <td>5.7</td>\n      <td>Comedy|Drama|Romance</td>\n      <td>https://images-na.ssl-images-amazon.com/images...</td>\n    </tr>\n    <tr>\n      <th>4</th>\n      <td>113041</td>\n      <td>http://www.imdb.com/title/tt113041</td>\n      <td>Father of the Bride Part II (1995)</td>\n      <td>5.9</td>\n      <td>Comedy|Family|Romance</td>\n      <td>https://images-na.ssl-images-amazon.com/images...</td>\n    </tr>\n  </tbody>\n</table>\n</div>"
     },
     "metadata": {},
     "execution_count": 2
    }
   ],
   "source": [
    "data = pd.read_csv(\"data/MovieGenre.csv\", encoding=\"ISO-8859-1\")\n",
    "data.head()\n"
   ]
  },
  {
   "cell_type": "code",
   "execution_count": 3,
   "metadata": {},
   "outputs": [],
   "source": [
    "def prepare_data(data, img_dict, size=(150, 101)):\n",
    "    print(\"Generation dataset...\")\n",
    "    dataset = []\n",
    "    y = []\n",
    "    ids = []\n",
    "    label_dict = {\"word2idx\": {}, \"idx2word\": []}\n",
    "    idx = 0\n",
    "    genre_per_movie = data[\"Genre\"].apply(lambda x: str(x).split(\"|\"))\n",
    "    for l in [g for d in genre_per_movie for g in d]:\n",
    "        if l in label_dict[\"idx2word\"]:\n",
    "            pass\n",
    "        else:\n",
    "            label_dict[\"idx2word\"].append(l)\n",
    "            label_dict[\"word2idx\"][l] = idx\n",
    "            idx += 1\n",
    "    n_classes = len(label_dict[\"idx2word\"])\n",
    "    print(\"identified {} classes\".format(n_classes))\n",
    "    n_samples = len(img_dict)\n",
    "    print(\"got {} samples\".format(n_samples))\n",
    "    for k in img_dict:\n",
    "        try:\n",
    "            g = data[data[\"imdbId\"] == int(k)][\"Genre\"].values[0].split(\"|\")\n",
    "            img = preprocess(img_dict[k], size)\n",
    "            if img.shape != (150, 101, 3):\n",
    "                continue\n",
    "            l = np.sum([np.eye(n_classes, dtype=\"uint8\")[label_dict[\"word2idx\"][s]] for s in g], axis=0)\n",
    "            y.append(l)\n",
    "            dataset.append(img)\n",
    "            ids.append(k)\n",
    "        except:\n",
    "            pass\n",
    "    print(\"DONE\")\n",
    "    return dataset, y, label_dict, ids\n"
   ]
  }
 ]
}